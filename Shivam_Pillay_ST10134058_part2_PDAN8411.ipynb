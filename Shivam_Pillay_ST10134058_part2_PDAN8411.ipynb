{
 "cells": [
  {
   "cell_type": "code",
   "execution_count": 1,
   "metadata": {},
   "outputs": [
    {
     "name": "stdout",
     "output_type": "stream",
     "text": [
      "\n"
     ]
    }
   ],
   "source": [
    "'''ST10134058 Shivam Mayur Pillay Part 2 PDAN8411 POE'''\n",
    "print()"
   ]
  },
  {
   "cell_type": "code",
   "execution_count": 2,
   "metadata": {},
   "outputs": [],
   "source": [
    "#what is classifiction in ML"
   ]
  },
  {
   "cell_type": "code",
   "execution_count": 3,
   "metadata": {},
   "outputs": [
    {
     "name": "stdout",
     "output_type": "stream",
     "text": [
      "\n"
     ]
    }
   ],
   "source": [
    "# reference the data set\n",
    "'''\n",
    "\n",
    "\n",
    "\n",
    "\n",
    "(Parmar, 2018)\n",
    "'''\n",
    "print()"
   ]
  },
  {
   "cell_type": "code",
   "execution_count": 4,
   "metadata": {},
   "outputs": [],
   "source": [
    "# why the data set is appropriate for classification"
   ]
  },
  {
   "cell_type": "code",
   "execution_count": 5,
   "metadata": {},
   "outputs": [],
   "source": [
    "# what analysis is going to be performed on the dataset. What is the question that the analysis will answer?"
   ]
  },
  {
   "cell_type": "code",
   "execution_count": 6,
   "metadata": {},
   "outputs": [
    {
     "data": {
      "text/plain": [
       "'\\nmake note to explain why we use GausianNB ant not the other 2!!!!!!!!!!!!!!!!!!!!!!!!!!!!!!!!!!!\\n'"
      ]
     },
     "execution_count": 6,
     "metadata": {},
     "output_type": "execute_result"
    }
   ],
   "source": [
    "'''\n",
    "Imports\n",
    "Pandas organizes data into a format which is readable and manageable (The Pandas Development Team, 2022a)\n",
    "\n",
    "'''\n",
    "import pandas as pd\n",
    "import matplotlib.pyplot as plt\n",
    "import seaborn as sns\n",
    "from sklearn.naive_bayes import GaussianNB \n",
    "from sklearn.model_selection import train_test_split\n",
    "from sklearn.metrics import classification_report\n",
    "\n",
    "\n",
    "'''\n",
    "make note to explain why we use GausianNB ant not the other 2!!!!!!!!!!!!!!!!!!!!!!!!!!!!!!!!!!!\n",
    "'''\n",
    "#!!!!!!!!!!!!!!!!!!!!!!!!!!!!!!!!!!!!"
   ]
  },
  {
   "cell_type": "code",
   "execution_count": 7,
   "metadata": {},
   "outputs": [],
   "source": [
    "'''\n",
    "Using a fucntion in Pandas we read a CSV file and organise the data\n",
    "\n",
    "Please download the CSV file from the link below and save the file in the same folder where POE Part 2 is saved\n",
    "\n",
    "Download Link: https://www.kaggle.com/datasets/rajyellow46/wine-quality/download\n",
    "\n",
    "'''\n",
    "\n",
    "df=pd.read_csv('winequalityN.csv')\n",
    "\n",
    "# (Refsnes Data, 2022)"
   ]
  },
  {
   "cell_type": "code",
   "execution_count": 8,
   "metadata": {},
   "outputs": [
    {
     "data": {
      "text/html": [
       "<div>\n",
       "<style scoped>\n",
       "    .dataframe tbody tr th:only-of-type {\n",
       "        vertical-align: middle;\n",
       "    }\n",
       "\n",
       "    .dataframe tbody tr th {\n",
       "        vertical-align: top;\n",
       "    }\n",
       "\n",
       "    .dataframe thead th {\n",
       "        text-align: right;\n",
       "    }\n",
       "</style>\n",
       "<table border=\"1\" class=\"dataframe\">\n",
       "  <thead>\n",
       "    <tr style=\"text-align: right;\">\n",
       "      <th></th>\n",
       "      <th>type</th>\n",
       "      <th>fixed acidity</th>\n",
       "      <th>volatile acidity</th>\n",
       "      <th>citric acid</th>\n",
       "      <th>residual sugar</th>\n",
       "      <th>chlorides</th>\n",
       "      <th>free sulfur dioxide</th>\n",
       "      <th>total sulfur dioxide</th>\n",
       "      <th>density</th>\n",
       "      <th>pH</th>\n",
       "      <th>sulphates</th>\n",
       "      <th>alcohol</th>\n",
       "      <th>quality</th>\n",
       "    </tr>\n",
       "  </thead>\n",
       "  <tbody>\n",
       "    <tr>\n",
       "      <th>0</th>\n",
       "      <td>white</td>\n",
       "      <td>7.0</td>\n",
       "      <td>0.27</td>\n",
       "      <td>0.36</td>\n",
       "      <td>20.7</td>\n",
       "      <td>0.045</td>\n",
       "      <td>45.0</td>\n",
       "      <td>170.0</td>\n",
       "      <td>1.0010</td>\n",
       "      <td>3.00</td>\n",
       "      <td>0.45</td>\n",
       "      <td>8.8</td>\n",
       "      <td>6</td>\n",
       "    </tr>\n",
       "    <tr>\n",
       "      <th>1</th>\n",
       "      <td>white</td>\n",
       "      <td>6.3</td>\n",
       "      <td>0.30</td>\n",
       "      <td>0.34</td>\n",
       "      <td>1.6</td>\n",
       "      <td>0.049</td>\n",
       "      <td>14.0</td>\n",
       "      <td>132.0</td>\n",
       "      <td>0.9940</td>\n",
       "      <td>3.30</td>\n",
       "      <td>0.49</td>\n",
       "      <td>9.5</td>\n",
       "      <td>6</td>\n",
       "    </tr>\n",
       "    <tr>\n",
       "      <th>2</th>\n",
       "      <td>white</td>\n",
       "      <td>8.1</td>\n",
       "      <td>0.28</td>\n",
       "      <td>0.40</td>\n",
       "      <td>6.9</td>\n",
       "      <td>0.050</td>\n",
       "      <td>30.0</td>\n",
       "      <td>97.0</td>\n",
       "      <td>0.9951</td>\n",
       "      <td>3.26</td>\n",
       "      <td>0.44</td>\n",
       "      <td>10.1</td>\n",
       "      <td>6</td>\n",
       "    </tr>\n",
       "    <tr>\n",
       "      <th>3</th>\n",
       "      <td>white</td>\n",
       "      <td>7.2</td>\n",
       "      <td>0.23</td>\n",
       "      <td>0.32</td>\n",
       "      <td>8.5</td>\n",
       "      <td>0.058</td>\n",
       "      <td>47.0</td>\n",
       "      <td>186.0</td>\n",
       "      <td>0.9956</td>\n",
       "      <td>3.19</td>\n",
       "      <td>0.40</td>\n",
       "      <td>9.9</td>\n",
       "      <td>6</td>\n",
       "    </tr>\n",
       "    <tr>\n",
       "      <th>4</th>\n",
       "      <td>white</td>\n",
       "      <td>7.2</td>\n",
       "      <td>0.23</td>\n",
       "      <td>0.32</td>\n",
       "      <td>8.5</td>\n",
       "      <td>0.058</td>\n",
       "      <td>47.0</td>\n",
       "      <td>186.0</td>\n",
       "      <td>0.9956</td>\n",
       "      <td>3.19</td>\n",
       "      <td>0.40</td>\n",
       "      <td>9.9</td>\n",
       "      <td>6</td>\n",
       "    </tr>\n",
       "  </tbody>\n",
       "</table>\n",
       "</div>"
      ],
      "text/plain": [
       "    type  fixed acidity  volatile acidity  citric acid  residual sugar  \\\n",
       "0  white            7.0              0.27         0.36            20.7   \n",
       "1  white            6.3              0.30         0.34             1.6   \n",
       "2  white            8.1              0.28         0.40             6.9   \n",
       "3  white            7.2              0.23         0.32             8.5   \n",
       "4  white            7.2              0.23         0.32             8.5   \n",
       "\n",
       "   chlorides  free sulfur dioxide  total sulfur dioxide  density    pH  \\\n",
       "0      0.045                 45.0                 170.0   1.0010  3.00   \n",
       "1      0.049                 14.0                 132.0   0.9940  3.30   \n",
       "2      0.050                 30.0                  97.0   0.9951  3.26   \n",
       "3      0.058                 47.0                 186.0   0.9956  3.19   \n",
       "4      0.058                 47.0                 186.0   0.9956  3.19   \n",
       "\n",
       "   sulphates  alcohol  quality  \n",
       "0       0.45      8.8        6  \n",
       "1       0.49      9.5        6  \n",
       "2       0.44     10.1        6  \n",
       "3       0.40      9.9        6  \n",
       "4       0.40      9.9        6  "
      ]
     },
     "execution_count": 8,
     "metadata": {},
     "output_type": "execute_result"
    }
   ],
   "source": [
    "''' Show the variables in dataset with the 1st 5 observations'''\n",
    "\n",
    "df.head(5)\n",
    "\n",
    "# (The Pandas Development Team, 2022e)"
   ]
  },
  {
   "cell_type": "code",
   "execution_count": 9,
   "metadata": {},
   "outputs": [
    {
     "data": {
      "text/plain": [
       "(6497, 13)"
      ]
     },
     "execution_count": 9,
     "metadata": {},
     "output_type": "execute_result"
    }
   ],
   "source": [
    "'''\n",
    "Show the number of observations and variables\n",
    "\n",
    "From the information below we can see that there are 500 observations and 9 different varibales in the data set\n",
    "'''\n",
    "\n",
    "df.shape\n",
    "\n",
    "# (The Pandas Development Team, 2022g)"
   ]
  },
  {
   "cell_type": "code",
   "execution_count": 10,
   "metadata": {},
   "outputs": [
    {
     "data": {
      "text/plain": [
       "Index(['type', 'fixed acidity', 'volatile acidity', 'citric acid',\n",
       "       'residual sugar', 'chlorides', 'free sulfur dioxide',\n",
       "       'total sulfur dioxide', 'density', 'pH', 'sulphates', 'alcohol',\n",
       "       'quality'],\n",
       "      dtype='object')"
      ]
     },
     "execution_count": 10,
     "metadata": {},
     "output_type": "execute_result"
    }
   ],
   "source": [
    "'''\n",
    "List the columns\n",
    "'''\n",
    "\n",
    "df.columns\n",
    "\n",
    "# (The Pandas Development Team, 2022b)"
   ]
  },
  {
   "cell_type": "code",
   "execution_count": 11,
   "metadata": {},
   "outputs": [
    {
     "name": "stdout",
     "output_type": "stream",
     "text": [
      "<class 'pandas.core.frame.DataFrame'>\n",
      "RangeIndex: 6497 entries, 0 to 6496\n",
      "Data columns (total 13 columns):\n",
      " #   Column                Non-Null Count  Dtype  \n",
      "---  ------                --------------  -----  \n",
      " 0   type                  6497 non-null   object \n",
      " 1   fixed acidity         6487 non-null   float64\n",
      " 2   volatile acidity      6489 non-null   float64\n",
      " 3   citric acid           6494 non-null   float64\n",
      " 4   residual sugar        6495 non-null   float64\n",
      " 5   chlorides             6495 non-null   float64\n",
      " 6   free sulfur dioxide   6497 non-null   float64\n",
      " 7   total sulfur dioxide  6497 non-null   float64\n",
      " 8   density               6497 non-null   float64\n",
      " 9   pH                    6488 non-null   float64\n",
      " 10  sulphates             6493 non-null   float64\n",
      " 11  alcohol               6497 non-null   float64\n",
      " 12  quality               6497 non-null   int64  \n",
      "dtypes: float64(11), int64(1), object(1)\n",
      "memory usage: 660.0+ KB\n"
     ]
    }
   ],
   "source": [
    "'''Print out a summary of the variable types'''\n",
    "\n",
    "df.info()\n",
    "\n",
    "# (The Pandas Development Team, 2022f)"
   ]
  },
  {
   "cell_type": "code",
   "execution_count": 12,
   "metadata": {},
   "outputs": [
    {
     "data": {
      "text/plain": [
       "6    2836\n",
       "5    2138\n",
       "7    1079\n",
       "4     216\n",
       "8     193\n",
       "3      30\n",
       "9       5\n",
       "Name: quality, dtype: int64"
      ]
     },
     "execution_count": 12,
     "metadata": {},
     "output_type": "execute_result"
    }
   ],
   "source": [
    "'''\n",
    "The dependent variable we will look at is the quality of the wine, we will consider this value as y\n",
    "\n",
    "The quality of the wine was rated on a scale from (0 to 10) however the min and max values seen are 3 and 9\n",
    "\n",
    "We need to see the distribution of the quality ratings by doing a count \n",
    "'''\n",
    "\n",
    "\n",
    "df['quality'].value_counts()"
   ]
  },
  {
   "cell_type": "code",
   "execution_count": 13,
   "metadata": {},
   "outputs": [],
   "source": [
    "'''\n",
    "Quality will be set as the dependent variable (y) \n",
    "\n",
    "I will adjust the dependent to read all quality ratings in the following way:\n",
    "\n",
    "qaulity between 0 and 5 as low --- Showing that this is a low qaulity wine\n",
    "quality between 6 and 7 as medium --- Showing that this is a medium qaulity wine\n",
    "quality between 8 and 10 as high --- Showing that this is a high qaulity wine\n",
    "'''\n",
    "\n",
    "df['quality'] = df.quality.apply(lambda q: 'low' if q <= 5 else 'medium' if q <= 7 else 'high')\n",
    "\n",
    "\n",
    "# (Burgaud, 2022)\n",
    "# (DataCamp Team, 2020)\n",
    "\n",
    "\n"
   ]
  },
  {
   "cell_type": "code",
   "execution_count": 14,
   "metadata": {},
   "outputs": [
    {
     "name": "stdout",
     "output_type": "stream",
     "text": [
      "medium    3915\n",
      "low       2384\n",
      "high       198\n",
      "Name: quality, dtype: int64\n"
     ]
    }
   ],
   "source": [
    "\n",
    "'''\n",
    "Show the number of observations which fall in the 3 new categories\n",
    "'''\n",
    "\n",
    "print(df['quality'].value_counts())\n",
    "\n",
    "# (Marsja, 2020)"
   ]
  },
  {
   "cell_type": "code",
   "execution_count": 15,
   "metadata": {},
   "outputs": [
    {
     "name": "stdout",
     "output_type": "stream",
     "text": [
      "type                     0\n",
      "fixed acidity           10\n",
      "volatile acidity         8\n",
      "citric acid              3\n",
      "residual sugar           2\n",
      "chlorides                2\n",
      "free sulfur dioxide      0\n",
      "total sulfur dioxide     0\n",
      "density                  0\n",
      "pH                       9\n",
      "sulphates                4\n",
      "alcohol                  0\n",
      "quality                  0\n",
      "dtype: int64\n"
     ]
    }
   ],
   "source": [
    "'''\n",
    "Check for feilds with no values\n",
    "\n",
    "Output below shows no missing feilds\n",
    "'''\n",
    "\n",
    "print(df.isna().sum()) \n",
    "\n",
    "# (Shin, 2020)"
   ]
  },
  {
   "cell_type": "code",
   "execution_count": 16,
   "metadata": {},
   "outputs": [
    {
     "data": {
      "text/plain": [
       "(6463, 13)"
      ]
     },
     "execution_count": 16,
     "metadata": {},
     "output_type": "execute_result"
    }
   ],
   "source": [
    "'''\n",
    "show the number of obsertvations after the drop (if we drop all observations with at least 1 missing value)\n",
    "'''\n",
    "df.dropna().shape"
   ]
  },
  {
   "cell_type": "code",
   "execution_count": 17,
   "metadata": {},
   "outputs": [
    {
     "name": "stdout",
     "output_type": "stream",
     "text": [
      "Total percentage of observations lost\n",
      "-0.0052\n",
      "\n",
      "Count before dropping missing\n",
      "medium    3915\n",
      "low       2384\n",
      "high       198\n",
      "Name: quality, dtype: int64\n",
      "\n",
      "Count after dropping missing\n",
      "medium    3894\n",
      "low       2372\n",
      "high       197\n",
      "Name: quality, dtype: int64\n",
      "\n",
      "Percentage of lost values change\n",
      "medium   -0.005364\n",
      "low      -0.005034\n",
      "high     -0.005051\n",
      "Name: quality, dtype: float64\n"
     ]
    }
   ],
   "source": [
    "'''\n",
    "Find the number of observations lost at each category level when dropping observations with at least one missing value\n",
    "\n",
    "'''\n",
    "df2 = df.copy()\n",
    "df2.dropna(inplace=True)\n",
    "dfcount=df['quality'].value_counts()\n",
    "dfcount2=df2['quality'].value_counts()\n",
    "totalPchange=len(df2.index)/(len(df.index))-1\n",
    "\n",
    "print('Total percentage of observations lost')\n",
    "print('{0:.4f}'.format(totalPchange))\n",
    "print()\n",
    "print('Count before dropping missing')\n",
    "print(dfcount)\n",
    "print()\n",
    "print('Count after dropping missing')\n",
    "print(dfcount2)\n",
    "print()\n",
    "print('Percentage of lost values change')\n",
    "print((dfcount2/dfcount)-1)"
   ]
  },
  {
   "cell_type": "code",
   "execution_count": 18,
   "metadata": {},
   "outputs": [],
   "source": [
    "''' \n",
    "As per above there is only half a percent of the observations in each category level\n",
    "\n",
    "Therefore drop the rows with missing values\n",
    "'''\n",
    "df.dropna(inplace=True)"
   ]
  },
  {
   "cell_type": "code",
   "execution_count": 19,
   "metadata": {},
   "outputs": [
    {
     "name": "stdout",
     "output_type": "stream",
     "text": [
      "type                    0\n",
      "fixed acidity           0\n",
      "volatile acidity        0\n",
      "citric acid             0\n",
      "residual sugar          0\n",
      "chlorides               0\n",
      "free sulfur dioxide     0\n",
      "total sulfur dioxide    0\n",
      "density                 0\n",
      "pH                      0\n",
      "sulphates               0\n",
      "alcohol                 0\n",
      "quality                 0\n",
      "dtype: int64\n"
     ]
    }
   ],
   "source": [
    "print(df.isna().sum())\n"
   ]
  },
  {
   "cell_type": "code",
   "execution_count": 20,
   "metadata": {},
   "outputs": [
    {
     "data": {
      "text/html": [
       "<div>\n",
       "<style scoped>\n",
       "    .dataframe tbody tr th:only-of-type {\n",
       "        vertical-align: middle;\n",
       "    }\n",
       "\n",
       "    .dataframe tbody tr th {\n",
       "        vertical-align: top;\n",
       "    }\n",
       "\n",
       "    .dataframe thead th {\n",
       "        text-align: right;\n",
       "    }\n",
       "</style>\n",
       "<table border=\"1\" class=\"dataframe\">\n",
       "  <thead>\n",
       "    <tr style=\"text-align: right;\">\n",
       "      <th></th>\n",
       "      <th>fixed acidity</th>\n",
       "      <th>volatile acidity</th>\n",
       "      <th>citric acid</th>\n",
       "      <th>residual sugar</th>\n",
       "      <th>chlorides</th>\n",
       "      <th>free sulfur dioxide</th>\n",
       "      <th>total sulfur dioxide</th>\n",
       "      <th>density</th>\n",
       "      <th>pH</th>\n",
       "      <th>sulphates</th>\n",
       "      <th>alcohol</th>\n",
       "    </tr>\n",
       "  </thead>\n",
       "  <tbody>\n",
       "    <tr>\n",
       "      <th>count</th>\n",
       "      <td>6463.0000</td>\n",
       "      <td>6463.0000</td>\n",
       "      <td>6463.0000</td>\n",
       "      <td>6463.0000</td>\n",
       "      <td>6463.0000</td>\n",
       "      <td>6463.0000</td>\n",
       "      <td>6463.0000</td>\n",
       "      <td>6463.0000</td>\n",
       "      <td>6463.0000</td>\n",
       "      <td>6463.0000</td>\n",
       "      <td>6463.0000</td>\n",
       "    </tr>\n",
       "    <tr>\n",
       "      <th>mean</th>\n",
       "      <td>7.2178</td>\n",
       "      <td>0.3396</td>\n",
       "      <td>0.3188</td>\n",
       "      <td>5.4440</td>\n",
       "      <td>0.0561</td>\n",
       "      <td>30.5169</td>\n",
       "      <td>115.6945</td>\n",
       "      <td>0.9947</td>\n",
       "      <td>3.2183</td>\n",
       "      <td>0.5311</td>\n",
       "      <td>10.4928</td>\n",
       "    </tr>\n",
       "    <tr>\n",
       "      <th>std</th>\n",
       "      <td>1.2979</td>\n",
       "      <td>0.1646</td>\n",
       "      <td>0.1453</td>\n",
       "      <td>4.7569</td>\n",
       "      <td>0.0351</td>\n",
       "      <td>17.7588</td>\n",
       "      <td>56.5267</td>\n",
       "      <td>0.0030</td>\n",
       "      <td>0.1606</td>\n",
       "      <td>0.1489</td>\n",
       "      <td>1.1931</td>\n",
       "    </tr>\n",
       "    <tr>\n",
       "      <th>min</th>\n",
       "      <td>3.8000</td>\n",
       "      <td>0.0800</td>\n",
       "      <td>0.0000</td>\n",
       "      <td>0.6000</td>\n",
       "      <td>0.0090</td>\n",
       "      <td>1.0000</td>\n",
       "      <td>6.0000</td>\n",
       "      <td>0.9871</td>\n",
       "      <td>2.7200</td>\n",
       "      <td>0.2200</td>\n",
       "      <td>8.0000</td>\n",
       "    </tr>\n",
       "    <tr>\n",
       "      <th>25%</th>\n",
       "      <td>6.4000</td>\n",
       "      <td>0.2300</td>\n",
       "      <td>0.2500</td>\n",
       "      <td>1.8000</td>\n",
       "      <td>0.0380</td>\n",
       "      <td>17.0000</td>\n",
       "      <td>77.0000</td>\n",
       "      <td>0.9923</td>\n",
       "      <td>3.1100</td>\n",
       "      <td>0.4300</td>\n",
       "      <td>9.5000</td>\n",
       "    </tr>\n",
       "    <tr>\n",
       "      <th>50%</th>\n",
       "      <td>7.0000</td>\n",
       "      <td>0.2900</td>\n",
       "      <td>0.3100</td>\n",
       "      <td>3.0000</td>\n",
       "      <td>0.0470</td>\n",
       "      <td>29.0000</td>\n",
       "      <td>118.0000</td>\n",
       "      <td>0.9949</td>\n",
       "      <td>3.2100</td>\n",
       "      <td>0.5100</td>\n",
       "      <td>10.3000</td>\n",
       "    </tr>\n",
       "    <tr>\n",
       "      <th>75%</th>\n",
       "      <td>7.7000</td>\n",
       "      <td>0.4000</td>\n",
       "      <td>0.3900</td>\n",
       "      <td>8.1000</td>\n",
       "      <td>0.0650</td>\n",
       "      <td>41.0000</td>\n",
       "      <td>156.0000</td>\n",
       "      <td>0.9970</td>\n",
       "      <td>3.3200</td>\n",
       "      <td>0.6000</td>\n",
       "      <td>11.3000</td>\n",
       "    </tr>\n",
       "    <tr>\n",
       "      <th>max</th>\n",
       "      <td>15.9000</td>\n",
       "      <td>1.5800</td>\n",
       "      <td>1.6600</td>\n",
       "      <td>65.8000</td>\n",
       "      <td>0.6110</td>\n",
       "      <td>289.0000</td>\n",
       "      <td>440.0000</td>\n",
       "      <td>1.0390</td>\n",
       "      <td>4.0100</td>\n",
       "      <td>2.0000</td>\n",
       "      <td>14.9000</td>\n",
       "    </tr>\n",
       "  </tbody>\n",
       "</table>\n",
       "</div>"
      ],
      "text/plain": [
       "      fixed acidity volatile acidity citric acid residual sugar  chlorides  \\\n",
       "count     6463.0000        6463.0000   6463.0000      6463.0000  6463.0000   \n",
       "mean         7.2178           0.3396      0.3188         5.4440     0.0561   \n",
       "std          1.2979           0.1646      0.1453         4.7569     0.0351   \n",
       "min          3.8000           0.0800      0.0000         0.6000     0.0090   \n",
       "25%          6.4000           0.2300      0.2500         1.8000     0.0380   \n",
       "50%          7.0000           0.2900      0.3100         3.0000     0.0470   \n",
       "75%          7.7000           0.4000      0.3900         8.1000     0.0650   \n",
       "max         15.9000           1.5800      1.6600        65.8000     0.6110   \n",
       "\n",
       "      free sulfur dioxide total sulfur dioxide    density         pH  \\\n",
       "count           6463.0000            6463.0000  6463.0000  6463.0000   \n",
       "mean              30.5169             115.6945     0.9947     3.2183   \n",
       "std               17.7588              56.5267     0.0030     0.1606   \n",
       "min                1.0000               6.0000     0.9871     2.7200   \n",
       "25%               17.0000              77.0000     0.9923     3.1100   \n",
       "50%               29.0000             118.0000     0.9949     3.2100   \n",
       "75%               41.0000             156.0000     0.9970     3.3200   \n",
       "max              289.0000             440.0000     1.0390     4.0100   \n",
       "\n",
       "       sulphates    alcohol  \n",
       "count  6463.0000  6463.0000  \n",
       "mean      0.5311    10.4928  \n",
       "std       0.1489     1.1931  \n",
       "min       0.2200     8.0000  \n",
       "25%       0.4300     9.5000  \n",
       "50%       0.5100    10.3000  \n",
       "75%       0.6000    11.3000  \n",
       "max       2.0000    14.9000  "
      ]
     },
     "execution_count": 20,
     "metadata": {},
     "output_type": "execute_result"
    }
   ],
   "source": [
    "'''\n",
    "Print out a summary of the each variable's statistics and round to 4 decimal places\n",
    "\n",
    "This is done to understand a summary of all the observations by each variable in the data set\n",
    "'''\n",
    "\n",
    "\n",
    "df.describe().apply(lambda s: s.apply('{0:.4f}'.format))\n",
    "\n",
    "# (DataScience Made Simple, 2022)\n"
   ]
  },
  {
   "cell_type": "code",
   "execution_count": 21,
   "metadata": {},
   "outputs": [
    {
     "data": {
      "text/html": [
       "<div>\n",
       "<style scoped>\n",
       "    .dataframe tbody tr th:only-of-type {\n",
       "        vertical-align: middle;\n",
       "    }\n",
       "\n",
       "    .dataframe tbody tr th {\n",
       "        vertical-align: top;\n",
       "    }\n",
       "\n",
       "    .dataframe thead th {\n",
       "        text-align: right;\n",
       "    }\n",
       "</style>\n",
       "<table border=\"1\" class=\"dataframe\">\n",
       "  <thead>\n",
       "    <tr style=\"text-align: right;\">\n",
       "      <th></th>\n",
       "      <th>fixed acidity</th>\n",
       "      <th>volatile acidity</th>\n",
       "      <th>citric acid</th>\n",
       "      <th>residual sugar</th>\n",
       "      <th>chlorides</th>\n",
       "      <th>free sulfur dioxide</th>\n",
       "      <th>total sulfur dioxide</th>\n",
       "      <th>density</th>\n",
       "      <th>pH</th>\n",
       "      <th>sulphates</th>\n",
       "      <th>alcohol</th>\n",
       "    </tr>\n",
       "  </thead>\n",
       "  <tbody>\n",
       "    <tr>\n",
       "      <th>fixed acidity</th>\n",
       "      <td>1.0000</td>\n",
       "      <td>0.2211</td>\n",
       "      <td>0.3237</td>\n",
       "      <td>-0.1134</td>\n",
       "      <td>0.2991</td>\n",
       "      <td>-0.2835</td>\n",
       "      <td>-0.3305</td>\n",
       "      <td>0.4597</td>\n",
       "      <td>-0.2511</td>\n",
       "      <td>0.3013</td>\n",
       "      <td>-0.0962</td>\n",
       "    </tr>\n",
       "    <tr>\n",
       "      <th>volatile acidity</th>\n",
       "      <td>0.2211</td>\n",
       "      <td>1.0000</td>\n",
       "      <td>-0.3775</td>\n",
       "      <td>-0.1967</td>\n",
       "      <td>0.3780</td>\n",
       "      <td>-0.3534</td>\n",
       "      <td>-0.4147</td>\n",
       "      <td>0.2721</td>\n",
       "      <td>0.2601</td>\n",
       "      <td>0.2257</td>\n",
       "      <td>-0.0395</td>\n",
       "    </tr>\n",
       "    <tr>\n",
       "      <th>citric acid</th>\n",
       "      <td>0.3237</td>\n",
       "      <td>-0.3775</td>\n",
       "      <td>1.0000</td>\n",
       "      <td>0.1423</td>\n",
       "      <td>0.0394</td>\n",
       "      <td>0.1323</td>\n",
       "      <td>0.1944</td>\n",
       "      <td>0.0971</td>\n",
       "      <td>-0.3279</td>\n",
       "      <td>0.0591</td>\n",
       "      <td>-0.0101</td>\n",
       "    </tr>\n",
       "    <tr>\n",
       "      <th>residual sugar</th>\n",
       "      <td>-0.1134</td>\n",
       "      <td>-0.1967</td>\n",
       "      <td>0.1423</td>\n",
       "      <td>1.0000</td>\n",
       "      <td>-0.1288</td>\n",
       "      <td>0.4034</td>\n",
       "      <td>0.4957</td>\n",
       "      <td>0.5515</td>\n",
       "      <td>-0.2665</td>\n",
       "      <td>-0.1856</td>\n",
       "      <td>-0.3591</td>\n",
       "    </tr>\n",
       "    <tr>\n",
       "      <th>chlorides</th>\n",
       "      <td>0.2991</td>\n",
       "      <td>0.3780</td>\n",
       "      <td>0.0394</td>\n",
       "      <td>-0.1288</td>\n",
       "      <td>1.0000</td>\n",
       "      <td>-0.1954</td>\n",
       "      <td>-0.2796</td>\n",
       "      <td>0.3631</td>\n",
       "      <td>0.0447</td>\n",
       "      <td>0.3962</td>\n",
       "      <td>-0.2577</td>\n",
       "    </tr>\n",
       "    <tr>\n",
       "      <th>free sulfur dioxide</th>\n",
       "      <td>-0.2835</td>\n",
       "      <td>-0.3534</td>\n",
       "      <td>0.1323</td>\n",
       "      <td>0.4034</td>\n",
       "      <td>-0.1954</td>\n",
       "      <td>1.0000</td>\n",
       "      <td>0.7215</td>\n",
       "      <td>0.0251</td>\n",
       "      <td>-0.1452</td>\n",
       "      <td>-0.1889</td>\n",
       "      <td>-0.1795</td>\n",
       "    </tr>\n",
       "    <tr>\n",
       "      <th>total sulfur dioxide</th>\n",
       "      <td>-0.3305</td>\n",
       "      <td>-0.4147</td>\n",
       "      <td>0.1944</td>\n",
       "      <td>0.4957</td>\n",
       "      <td>-0.2796</td>\n",
       "      <td>0.7215</td>\n",
       "      <td>1.0000</td>\n",
       "      <td>0.0314</td>\n",
       "      <td>-0.2372</td>\n",
       "      <td>-0.2759</td>\n",
       "      <td>-0.2644</td>\n",
       "    </tr>\n",
       "    <tr>\n",
       "      <th>density</th>\n",
       "      <td>0.4597</td>\n",
       "      <td>0.2721</td>\n",
       "      <td>0.0971</td>\n",
       "      <td>0.5515</td>\n",
       "      <td>0.3631</td>\n",
       "      <td>0.0251</td>\n",
       "      <td>0.0314</td>\n",
       "      <td>1.0000</td>\n",
       "      <td>0.0125</td>\n",
       "      <td>0.2600</td>\n",
       "      <td>-0.6874</td>\n",
       "    </tr>\n",
       "    <tr>\n",
       "      <th>pH</th>\n",
       "      <td>-0.2511</td>\n",
       "      <td>0.2601</td>\n",
       "      <td>-0.3279</td>\n",
       "      <td>-0.2665</td>\n",
       "      <td>0.0447</td>\n",
       "      <td>-0.1452</td>\n",
       "      <td>-0.2372</td>\n",
       "      <td>0.0125</td>\n",
       "      <td>1.0000</td>\n",
       "      <td>0.1909</td>\n",
       "      <td>0.1205</td>\n",
       "    </tr>\n",
       "    <tr>\n",
       "      <th>sulphates</th>\n",
       "      <td>0.3013</td>\n",
       "      <td>0.2257</td>\n",
       "      <td>0.0591</td>\n",
       "      <td>-0.1856</td>\n",
       "      <td>0.3962</td>\n",
       "      <td>-0.1889</td>\n",
       "      <td>-0.2759</td>\n",
       "      <td>0.2600</td>\n",
       "      <td>0.1909</td>\n",
       "      <td>1.0000</td>\n",
       "      <td>-0.0041</td>\n",
       "    </tr>\n",
       "    <tr>\n",
       "      <th>alcohol</th>\n",
       "      <td>-0.0962</td>\n",
       "      <td>-0.0395</td>\n",
       "      <td>-0.0101</td>\n",
       "      <td>-0.3591</td>\n",
       "      <td>-0.2577</td>\n",
       "      <td>-0.1795</td>\n",
       "      <td>-0.2644</td>\n",
       "      <td>-0.6874</td>\n",
       "      <td>0.1205</td>\n",
       "      <td>-0.0041</td>\n",
       "      <td>1.0000</td>\n",
       "    </tr>\n",
       "  </tbody>\n",
       "</table>\n",
       "</div>"
      ],
      "text/plain": [
       "                     fixed acidity volatile acidity citric acid  \\\n",
       "fixed acidity               1.0000           0.2211      0.3237   \n",
       "volatile acidity            0.2211           1.0000     -0.3775   \n",
       "citric acid                 0.3237          -0.3775      1.0000   \n",
       "residual sugar             -0.1134          -0.1967      0.1423   \n",
       "chlorides                   0.2991           0.3780      0.0394   \n",
       "free sulfur dioxide        -0.2835          -0.3534      0.1323   \n",
       "total sulfur dioxide       -0.3305          -0.4147      0.1944   \n",
       "density                     0.4597           0.2721      0.0971   \n",
       "pH                         -0.2511           0.2601     -0.3279   \n",
       "sulphates                   0.3013           0.2257      0.0591   \n",
       "alcohol                    -0.0962          -0.0395     -0.0101   \n",
       "\n",
       "                     residual sugar chlorides free sulfur dioxide  \\\n",
       "fixed acidity               -0.1134    0.2991             -0.2835   \n",
       "volatile acidity            -0.1967    0.3780             -0.3534   \n",
       "citric acid                  0.1423    0.0394              0.1323   \n",
       "residual sugar               1.0000   -0.1288              0.4034   \n",
       "chlorides                   -0.1288    1.0000             -0.1954   \n",
       "free sulfur dioxide          0.4034   -0.1954              1.0000   \n",
       "total sulfur dioxide         0.4957   -0.2796              0.7215   \n",
       "density                      0.5515    0.3631              0.0251   \n",
       "pH                          -0.2665    0.0447             -0.1452   \n",
       "sulphates                   -0.1856    0.3962             -0.1889   \n",
       "alcohol                     -0.3591   -0.2577             -0.1795   \n",
       "\n",
       "                     total sulfur dioxide  density       pH sulphates  alcohol  \n",
       "fixed acidity                     -0.3305   0.4597  -0.2511    0.3013  -0.0962  \n",
       "volatile acidity                  -0.4147   0.2721   0.2601    0.2257  -0.0395  \n",
       "citric acid                        0.1944   0.0971  -0.3279    0.0591  -0.0101  \n",
       "residual sugar                     0.4957   0.5515  -0.2665   -0.1856  -0.3591  \n",
       "chlorides                         -0.2796   0.3631   0.0447    0.3962  -0.2577  \n",
       "free sulfur dioxide                0.7215   0.0251  -0.1452   -0.1889  -0.1795  \n",
       "total sulfur dioxide               1.0000   0.0314  -0.2372   -0.2759  -0.2644  \n",
       "density                            0.0314   1.0000   0.0125    0.2600  -0.6874  \n",
       "pH                                -0.2372   0.0125   1.0000    0.1909   0.1205  \n",
       "sulphates                         -0.2759   0.2600   0.1909    1.0000  -0.0041  \n",
       "alcohol                           -0.2644  -0.6874   0.1205   -0.0041   1.0000  "
      ]
     },
     "execution_count": 21,
     "metadata": {},
     "output_type": "execute_result"
    }
   ],
   "source": [
    "'''\n",
    "Show the correlation between each varible in the data set\n",
    "'''\n",
    "\n",
    "df.corr().apply(lambda s: s.apply('{0:.4f}'.format))\n",
    "\n",
    "# (The Pandas Development Team, 2022c)\n"
   ]
  },
  {
   "cell_type": "code",
   "execution_count": 22,
   "metadata": {},
   "outputs": [
    {
     "data": {
      "image/png": "[encoded data removed]",
      "text/plain": [
       "<Figure size 720x720 with 2 Axes>"
      ]
     },
     "metadata": {
      "needs_background": "light"
     },
     "output_type": "display_data"
    }
   ],
   "source": [
    "'''\n",
    "Plot the data onto heatmap\n",
    "'''\n",
    "\n",
    "plt.figure(figsize=(10,10))\n",
    "sns.heatmap(df.corr(), annot=True)\n",
    "plt.show()\n",
    "\n",
    "# (Data To Fish, 2020)"
   ]
  },
  {
   "cell_type": "code",
   "execution_count": 23,
   "metadata": {},
   "outputs": [],
   "source": [
    "'''\n",
    "Set quality to = y (as this is the dependent) and set the rest of the variables to x (the independent)\n",
    "'''\n",
    "\n",
    "y=df['quality']\n",
    "x=df[['fixed acidity', 'volatile acidity', 'citric acid','residual sugar', 'chlorides', 'free sulfur dioxide','total sulfur dioxide', 'density', 'pH', 'sulphates', 'alcohol']]\n"
   ]
  },
  {
   "cell_type": "code",
   "execution_count": 24,
   "metadata": {},
   "outputs": [],
   "source": [
    "'''\n",
    "Split into Training and Testing sets\n",
    "'''\n",
    "\n",
    "x_train, x_test, y_train, y_test = train_test_split(x, y, test_size= 0.2, random_state=0)\n",
    "\n"
   ]
  },
  {
   "cell_type": "code",
   "execution_count": 25,
   "metadata": {},
   "outputs": [
    {
     "data": {
      "text/plain": [
       "'\\nTest GNB\\n\\ngnb=GaussianNB()\\ngnb.fit(x_train, y_train)\\ngnbs=gnb.score(x_test,y_test)\\n\\ngnb.predict(x_test)\\ny_pred = gnb.predict(x_test)\\n#score = accuracy_score(y_test, y_pred)\\n'"
      ]
     },
     "execution_count": 25,
     "metadata": {},
     "output_type": "execute_result"
    }
   ],
   "source": [
    "'''\n",
    "Test GNB\n",
    "\n",
    "gnb=GaussianNB()\n",
    "gnb.fit(x_train, y_train)\n",
    "gnbs=gnb.score(x_test,y_test)\n",
    "\n",
    "gnb.predict(x_test)\n",
    "y_pred = gnb.predict(x_test)\n",
    "#score = accuracy_score(y_test, y_pred)\n",
    "'''\n"
   ]
  },
  {
   "cell_type": "code",
   "execution_count": 26,
   "metadata": {},
   "outputs": [
    {
     "ename": "TypeError",
     "evalue": "cross_val_score() got an unexpected keyword argument 'x'",
     "output_type": "error",
     "traceback": [
      "\u001b[1;31m---------------------------------------------------------------------------\u001b[0m",
      "\u001b[1;31mTypeError\u001b[0m                                 Traceback (most recent call last)",
      "\u001b[1;32mc:\\Users\\shivz\\My Drive\\1 VC\\PDAN8411_Programming for Data Analytics\\PANA POE\\Shivam_Pillay_ST10134058_part2_PDAN8411.ipynb Cell 26'\u001b[0m in \u001b[0;36m<cell line: 6>\u001b[1;34m()\u001b[0m\n\u001b[0;32m      <a href='vscode-notebook-cell:/c%3A/Users/shivz/My%20Drive/1%20VC/PDAN8411_Programming%20for%20Data%20Analytics/PANA%20POE/Shivam_Pillay_ST10134058_part2_PDAN8411.ipynb#ch0000031?line=2'>3</a>\u001b[0m cls_nb\u001b[39m=\u001b[39mGaussianNB()\n\u001b[0;32m      <a href='vscode-notebook-cell:/c%3A/Users/shivz/My%20Drive/1%20VC/PDAN8411_Programming%20for%20Data%20Analytics/PANA%20POE/Shivam_Pillay_ST10134058_part2_PDAN8411.ipynb#ch0000031?line=3'>4</a>\u001b[0m cls_nb\u001b[39m.\u001b[39mfit(x_train,y_train\u001b[39m.\u001b[39mravel())\n\u001b[1;32m----> <a href='vscode-notebook-cell:/c%3A/Users/shivz/My%20Drive/1%20VC/PDAN8411_Programming%20for%20Data%20Analytics/PANA%20POE/Shivam_Pillay_ST10134058_part2_PDAN8411.ipynb#ch0000031?line=5'>6</a>\u001b[0m cross_val_score(estimator\u001b[39m=\u001b[39;49mcls_nb,x\u001b[39m=\u001b[39;49mx_train,y\u001b[39m=\u001b[39;49my_train\u001b[39m.\u001b[39;49mravel(),cv\u001b[39m=\u001b[39;49m\u001b[39m7\u001b[39;49m)\u001b[39m.\u001b[39mmean()\n",
      "\u001b[1;31mTypeError\u001b[0m: cross_val_score() got an unexpected keyword argument 'x'"
     ]
    }
   ],
   "source": [
    "from sklearn.model_selection import cross_val_score\n",
    "\n",
    "cls_nb=GaussianNB()\n",
    "cls_nb.fit(x_train,y_train.ravel())\n",
    "\n",
    "cross_val_score(estimator=cls_nb,x=x_train,y=y_train.ravel(),cv=7).mean()"
   ]
  }
 ],
 "metadata": {
  "interpreter": {
   "hash": "97512231788fe9d8cdcdd23a281e8b68789edc895197c08aa337e8866310d78a"
  },
  "kernelspec": {
   "display_name": "Python 3.10.4 64-bit",
   "language": "python",
   "name": "python3"
  },
  "language_info": {
   "codemirror_mode": {
    "name": "ipython",
    "version": 3
   },
   "file_extension": ".py",
   "mimetype": "text/x-python",
   "name": "python",
   "nbconvert_exporter": "python",
   "pygments_lexer": "ipython3",
   "version": "3.10.4"
  },
  "orig_nbformat": 4
 },
 "nbformat": 4,
 "nbformat_minor": 2
}
